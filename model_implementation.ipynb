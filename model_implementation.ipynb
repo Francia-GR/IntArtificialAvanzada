{
  "cells": [
    {
      "cell_type": "markdown",
      "metadata": {
        "id": "K4IY_iDBZqk2"
      },
      "source": [
        "# **Implementation of Classification Models: Music Genre Classification**"
      ]
    },
    {
      "cell_type": "code",
      "execution_count": null,
      "metadata": {
        "id": "sRCGkB3_Jx7y"
      },
      "outputs": [],
      "source": [
        "import pandas as pd\n",
        "import numpy as np\n",
        "import matplotlib.pyplot as plt\n",
        "from itertools import combinations\n",
        "\n",
        "from sklearn.model_selection import train_test_split, GridSearchCV, cross_val_score, KFold\n",
        "from sklearn.metrics import precision_score, accuracy_score, recall_score, confusion_matrix\n",
        "\n",
        "from sklearn.linear_model import LogisticRegression\n",
        "from sklearn.ensemble import RandomForestClassifier"
      ]
    },
    {
      "cell_type": "code",
      "execution_count": null,
      "metadata": {
        "colab": {
          "base_uri": "https://localhost:8080/",
          "height": 423
        },
        "id": "ONcc-bj3KKJb",
        "outputId": "785c5935-0970-41a1-b6b7-a55d449efe67"
      },
      "outputs": [
        {
          "output_type": "execute_result",
          "data": {
            "text/plain": [
              "       danceability  loudness  speechiness  acousticness   valence  \\\n",
              "8676       0.407002  0.594976     0.024848      0.684549  0.642969   \n",
              "11957      0.404814  0.710302     0.259259      0.002242  0.018736   \n",
              "1401       0.507659  0.430539     0.535865      0.185622  0.494119   \n",
              "4951       0.493435  0.423370     0.085091      0.004174  0.033413   \n",
              "3124       0.464989  0.316624     0.039850      0.944206  0.067555   \n",
              "...             ...       ...          ...           ...       ...   \n",
              "13116      0.176149  0.558058     0.148148      0.000051  0.090247   \n",
              "5770       0.226477  0.698956     0.587436      0.007167  0.317165   \n",
              "13199      0.335886  0.762856     0.088842      0.000078  0.709587   \n",
              "15057      0.575492  0.595371     0.041491      0.273605  0.867805   \n",
              "10425      0.647702  0.318431     0.055321      0.714592  0.323410   \n",
              "\n",
              "       duration_in min/ms  Class  \n",
              "8676             0.494506      9  \n",
              "11957            0.503115      8  \n",
              "1401             0.450064      5  \n",
              "4951             0.815886      6  \n",
              "3124             0.398829      9  \n",
              "...                   ...    ...  \n",
              "13116            0.733767      8  \n",
              "5770             0.229141      8  \n",
              "13199            0.375854      8  \n",
              "15057            0.388293      6  \n",
              "10425            0.482999      5  \n",
              "\n",
              "[6448 rows x 7 columns]"
            ],
            "text/html": [
              "\n",
              "  <div id=\"df-a822e579-cf7b-4cef-a2ef-a8496ff88328\" class=\"colab-df-container\">\n",
              "    <div>\n",
              "<style scoped>\n",
              "    .dataframe tbody tr th:only-of-type {\n",
              "        vertical-align: middle;\n",
              "    }\n",
              "\n",
              "    .dataframe tbody tr th {\n",
              "        vertical-align: top;\n",
              "    }\n",
              "\n",
              "    .dataframe thead th {\n",
              "        text-align: right;\n",
              "    }\n",
              "</style>\n",
              "<table border=\"1\" class=\"dataframe\">\n",
              "  <thead>\n",
              "    <tr style=\"text-align: right;\">\n",
              "      <th></th>\n",
              "      <th>danceability</th>\n",
              "      <th>loudness</th>\n",
              "      <th>speechiness</th>\n",
              "      <th>acousticness</th>\n",
              "      <th>valence</th>\n",
              "      <th>duration_in min/ms</th>\n",
              "      <th>Class</th>\n",
              "    </tr>\n",
              "  </thead>\n",
              "  <tbody>\n",
              "    <tr>\n",
              "      <th>8676</th>\n",
              "      <td>0.407002</td>\n",
              "      <td>0.594976</td>\n",
              "      <td>0.024848</td>\n",
              "      <td>0.684549</td>\n",
              "      <td>0.642969</td>\n",
              "      <td>0.494506</td>\n",
              "      <td>9</td>\n",
              "    </tr>\n",
              "    <tr>\n",
              "      <th>11957</th>\n",
              "      <td>0.404814</td>\n",
              "      <td>0.710302</td>\n",
              "      <td>0.259259</td>\n",
              "      <td>0.002242</td>\n",
              "      <td>0.018736</td>\n",
              "      <td>0.503115</td>\n",
              "      <td>8</td>\n",
              "    </tr>\n",
              "    <tr>\n",
              "      <th>1401</th>\n",
              "      <td>0.507659</td>\n",
              "      <td>0.430539</td>\n",
              "      <td>0.535865</td>\n",
              "      <td>0.185622</td>\n",
              "      <td>0.494119</td>\n",
              "      <td>0.450064</td>\n",
              "      <td>5</td>\n",
              "    </tr>\n",
              "    <tr>\n",
              "      <th>4951</th>\n",
              "      <td>0.493435</td>\n",
              "      <td>0.423370</td>\n",
              "      <td>0.085091</td>\n",
              "      <td>0.004174</td>\n",
              "      <td>0.033413</td>\n",
              "      <td>0.815886</td>\n",
              "      <td>6</td>\n",
              "    </tr>\n",
              "    <tr>\n",
              "      <th>3124</th>\n",
              "      <td>0.464989</td>\n",
              "      <td>0.316624</td>\n",
              "      <td>0.039850</td>\n",
              "      <td>0.944206</td>\n",
              "      <td>0.067555</td>\n",
              "      <td>0.398829</td>\n",
              "      <td>9</td>\n",
              "    </tr>\n",
              "    <tr>\n",
              "      <th>...</th>\n",
              "      <td>...</td>\n",
              "      <td>...</td>\n",
              "      <td>...</td>\n",
              "      <td>...</td>\n",
              "      <td>...</td>\n",
              "      <td>...</td>\n",
              "      <td>...</td>\n",
              "    </tr>\n",
              "    <tr>\n",
              "      <th>13116</th>\n",
              "      <td>0.176149</td>\n",
              "      <td>0.558058</td>\n",
              "      <td>0.148148</td>\n",
              "      <td>0.000051</td>\n",
              "      <td>0.090247</td>\n",
              "      <td>0.733767</td>\n",
              "      <td>8</td>\n",
              "    </tr>\n",
              "    <tr>\n",
              "      <th>5770</th>\n",
              "      <td>0.226477</td>\n",
              "      <td>0.698956</td>\n",
              "      <td>0.587436</td>\n",
              "      <td>0.007167</td>\n",
              "      <td>0.317165</td>\n",
              "      <td>0.229141</td>\n",
              "      <td>8</td>\n",
              "    </tr>\n",
              "    <tr>\n",
              "      <th>13199</th>\n",
              "      <td>0.335886</td>\n",
              "      <td>0.762856</td>\n",
              "      <td>0.088842</td>\n",
              "      <td>0.000078</td>\n",
              "      <td>0.709587</td>\n",
              "      <td>0.375854</td>\n",
              "      <td>8</td>\n",
              "    </tr>\n",
              "    <tr>\n",
              "      <th>15057</th>\n",
              "      <td>0.575492</td>\n",
              "      <td>0.595371</td>\n",
              "      <td>0.041491</td>\n",
              "      <td>0.273605</td>\n",
              "      <td>0.867805</td>\n",
              "      <td>0.388293</td>\n",
              "      <td>6</td>\n",
              "    </tr>\n",
              "    <tr>\n",
              "      <th>10425</th>\n",
              "      <td>0.647702</td>\n",
              "      <td>0.318431</td>\n",
              "      <td>0.055321</td>\n",
              "      <td>0.714592</td>\n",
              "      <td>0.323410</td>\n",
              "      <td>0.482999</td>\n",
              "      <td>5</td>\n",
              "    </tr>\n",
              "  </tbody>\n",
              "</table>\n",
              "<p>6448 rows × 7 columns</p>\n",
              "</div>\n",
              "    <div class=\"colab-df-buttons\">\n",
              "\n",
              "  <div class=\"colab-df-container\">\n",
              "    <button class=\"colab-df-convert\" onclick=\"convertToInteractive('df-a822e579-cf7b-4cef-a2ef-a8496ff88328')\"\n",
              "            title=\"Convert this dataframe to an interactive table.\"\n",
              "            style=\"display:none;\">\n",
              "\n",
              "  <svg xmlns=\"http://www.w3.org/2000/svg\" height=\"24px\" viewBox=\"0 -960 960 960\">\n",
              "    <path d=\"M120-120v-720h720v720H120Zm60-500h600v-160H180v160Zm220 220h160v-160H400v160Zm0 220h160v-160H400v160ZM180-400h160v-160H180v160Zm440 0h160v-160H620v160ZM180-180h160v-160H180v160Zm440 0h160v-160H620v160Z\"/>\n",
              "  </svg>\n",
              "    </button>\n",
              "\n",
              "  <style>\n",
              "    .colab-df-container {\n",
              "      display:flex;\n",
              "      gap: 12px;\n",
              "    }\n",
              "\n",
              "    .colab-df-convert {\n",
              "      background-color: #E8F0FE;\n",
              "      border: none;\n",
              "      border-radius: 50%;\n",
              "      cursor: pointer;\n",
              "      display: none;\n",
              "      fill: #1967D2;\n",
              "      height: 32px;\n",
              "      padding: 0 0 0 0;\n",
              "      width: 32px;\n",
              "    }\n",
              "\n",
              "    .colab-df-convert:hover {\n",
              "      background-color: #E2EBFA;\n",
              "      box-shadow: 0px 1px 2px rgba(60, 64, 67, 0.3), 0px 1px 3px 1px rgba(60, 64, 67, 0.15);\n",
              "      fill: #174EA6;\n",
              "    }\n",
              "\n",
              "    .colab-df-buttons div {\n",
              "      margin-bottom: 4px;\n",
              "    }\n",
              "\n",
              "    [theme=dark] .colab-df-convert {\n",
              "      background-color: #3B4455;\n",
              "      fill: #D2E3FC;\n",
              "    }\n",
              "\n",
              "    [theme=dark] .colab-df-convert:hover {\n",
              "      background-color: #434B5C;\n",
              "      box-shadow: 0px 1px 3px 1px rgba(0, 0, 0, 0.15);\n",
              "      filter: drop-shadow(0px 1px 2px rgba(0, 0, 0, 0.3));\n",
              "      fill: #FFFFFF;\n",
              "    }\n",
              "  </style>\n",
              "\n",
              "    <script>\n",
              "      const buttonEl =\n",
              "        document.querySelector('#df-a822e579-cf7b-4cef-a2ef-a8496ff88328 button.colab-df-convert');\n",
              "      buttonEl.style.display =\n",
              "        google.colab.kernel.accessAllowed ? 'block' : 'none';\n",
              "\n",
              "      async function convertToInteractive(key) {\n",
              "        const element = document.querySelector('#df-a822e579-cf7b-4cef-a2ef-a8496ff88328');\n",
              "        const dataTable =\n",
              "          await google.colab.kernel.invokeFunction('convertToInteractive',\n",
              "                                                    [key], {});\n",
              "        if (!dataTable) return;\n",
              "\n",
              "        const docLinkHtml = 'Like what you see? Visit the ' +\n",
              "          '<a target=\"_blank\" href=https://colab.research.google.com/notebooks/data_table.ipynb>data table notebook</a>'\n",
              "          + ' to learn more about interactive tables.';\n",
              "        element.innerHTML = '';\n",
              "        dataTable['output_type'] = 'display_data';\n",
              "        await google.colab.output.renderOutput(dataTable, element);\n",
              "        const docLink = document.createElement('div');\n",
              "        docLink.innerHTML = docLinkHtml;\n",
              "        element.appendChild(docLink);\n",
              "      }\n",
              "    </script>\n",
              "  </div>\n",
              "\n",
              "\n",
              "<div id=\"df-c53430c3-f235-41ec-9103-144260dad3f2\">\n",
              "  <button class=\"colab-df-quickchart\" onclick=\"quickchart('df-c53430c3-f235-41ec-9103-144260dad3f2')\"\n",
              "            title=\"Suggest charts.\"\n",
              "            style=\"display:none;\">\n",
              "\n",
              "<svg xmlns=\"http://www.w3.org/2000/svg\" height=\"24px\"viewBox=\"0 0 24 24\"\n",
              "     width=\"24px\">\n",
              "    <g>\n",
              "        <path d=\"M19 3H5c-1.1 0-2 .9-2 2v14c0 1.1.9 2 2 2h14c1.1 0 2-.9 2-2V5c0-1.1-.9-2-2-2zM9 17H7v-7h2v7zm4 0h-2V7h2v10zm4 0h-2v-4h2v4z\"/>\n",
              "    </g>\n",
              "</svg>\n",
              "  </button>\n",
              "\n",
              "<style>\n",
              "  .colab-df-quickchart {\n",
              "      --bg-color: #E8F0FE;\n",
              "      --fill-color: #1967D2;\n",
              "      --hover-bg-color: #E2EBFA;\n",
              "      --hover-fill-color: #174EA6;\n",
              "      --disabled-fill-color: #AAA;\n",
              "      --disabled-bg-color: #DDD;\n",
              "  }\n",
              "\n",
              "  [theme=dark] .colab-df-quickchart {\n",
              "      --bg-color: #3B4455;\n",
              "      --fill-color: #D2E3FC;\n",
              "      --hover-bg-color: #434B5C;\n",
              "      --hover-fill-color: #FFFFFF;\n",
              "      --disabled-bg-color: #3B4455;\n",
              "      --disabled-fill-color: #666;\n",
              "  }\n",
              "\n",
              "  .colab-df-quickchart {\n",
              "    background-color: var(--bg-color);\n",
              "    border: none;\n",
              "    border-radius: 50%;\n",
              "    cursor: pointer;\n",
              "    display: none;\n",
              "    fill: var(--fill-color);\n",
              "    height: 32px;\n",
              "    padding: 0;\n",
              "    width: 32px;\n",
              "  }\n",
              "\n",
              "  .colab-df-quickchart:hover {\n",
              "    background-color: var(--hover-bg-color);\n",
              "    box-shadow: 0 1px 2px rgba(60, 64, 67, 0.3), 0 1px 3px 1px rgba(60, 64, 67, 0.15);\n",
              "    fill: var(--button-hover-fill-color);\n",
              "  }\n",
              "\n",
              "  .colab-df-quickchart-complete:disabled,\n",
              "  .colab-df-quickchart-complete:disabled:hover {\n",
              "    background-color: var(--disabled-bg-color);\n",
              "    fill: var(--disabled-fill-color);\n",
              "    box-shadow: none;\n",
              "  }\n",
              "\n",
              "  .colab-df-spinner {\n",
              "    border: 2px solid var(--fill-color);\n",
              "    border-color: transparent;\n",
              "    border-bottom-color: var(--fill-color);\n",
              "    animation:\n",
              "      spin 1s steps(1) infinite;\n",
              "  }\n",
              "\n",
              "  @keyframes spin {\n",
              "    0% {\n",
              "      border-color: transparent;\n",
              "      border-bottom-color: var(--fill-color);\n",
              "      border-left-color: var(--fill-color);\n",
              "    }\n",
              "    20% {\n",
              "      border-color: transparent;\n",
              "      border-left-color: var(--fill-color);\n",
              "      border-top-color: var(--fill-color);\n",
              "    }\n",
              "    30% {\n",
              "      border-color: transparent;\n",
              "      border-left-color: var(--fill-color);\n",
              "      border-top-color: var(--fill-color);\n",
              "      border-right-color: var(--fill-color);\n",
              "    }\n",
              "    40% {\n",
              "      border-color: transparent;\n",
              "      border-right-color: var(--fill-color);\n",
              "      border-top-color: var(--fill-color);\n",
              "    }\n",
              "    60% {\n",
              "      border-color: transparent;\n",
              "      border-right-color: var(--fill-color);\n",
              "    }\n",
              "    80% {\n",
              "      border-color: transparent;\n",
              "      border-right-color: var(--fill-color);\n",
              "      border-bottom-color: var(--fill-color);\n",
              "    }\n",
              "    90% {\n",
              "      border-color: transparent;\n",
              "      border-bottom-color: var(--fill-color);\n",
              "    }\n",
              "  }\n",
              "</style>\n",
              "\n",
              "  <script>\n",
              "    async function quickchart(key) {\n",
              "      const quickchartButtonEl =\n",
              "        document.querySelector('#' + key + ' button');\n",
              "      quickchartButtonEl.disabled = true;  // To prevent multiple clicks.\n",
              "      quickchartButtonEl.classList.add('colab-df-spinner');\n",
              "      try {\n",
              "        const charts = await google.colab.kernel.invokeFunction(\n",
              "            'suggestCharts', [key], {});\n",
              "      } catch (error) {\n",
              "        console.error('Error during call to suggestCharts:', error);\n",
              "      }\n",
              "      quickchartButtonEl.classList.remove('colab-df-spinner');\n",
              "      quickchartButtonEl.classList.add('colab-df-quickchart-complete');\n",
              "    }\n",
              "    (() => {\n",
              "      let quickchartButtonEl =\n",
              "        document.querySelector('#df-c53430c3-f235-41ec-9103-144260dad3f2 button');\n",
              "      quickchartButtonEl.style.display =\n",
              "        google.colab.kernel.accessAllowed ? 'block' : 'none';\n",
              "    })();\n",
              "  </script>\n",
              "</div>\n",
              "    </div>\n",
              "  </div>\n"
            ]
          },
          "metadata": {},
          "execution_count": 38
        }
      ],
      "source": [
        "df = pd.read_csv('music_data.csv', index_col = 0)\n",
        "df"
      ]
    },
    {
      "cell_type": "markdown",
      "metadata": {
        "id": "0RXPqq-uNH8v"
      },
      "source": [
        "## **Separation of Data and Training**\n",
        "\n",
        "- Train set\n",
        "- Test set"
      ]
    },
    {
      "cell_type": "code",
      "execution_count": null,
      "metadata": {
        "id": "ev-VbVoGNHNS"
      },
      "outputs": [],
      "source": [
        "# Target variable and features\n",
        "X = df.drop('Class', axis=1)\n",
        "y = df['Class']\n",
        "\n",
        "# Train, validation and test sets\n",
        "X_train, X_test, y_train, y_test = train_test_split(X, y, test_size=0.3, random_state=42)"
      ]
    },
    {
      "cell_type": "markdown",
      "metadata": {
        "id": "_CsdFyizrTdC"
      },
      "source": [
        "## **Logistic Regression**"
      ]
    },
    {
      "cell_type": "code",
      "execution_count": null,
      "metadata": {
        "id": "6JFi2pSit8hE"
      },
      "outputs": [],
      "source": [
        "model_lr = LogisticRegression(\n",
        "    penalty='l2',       # Regularization penalty ('l1' or 'l2')\n",
        "    C=1.0,              # Inverse of regularization strength\n",
        "    # fit_intercept=True, # Whether to calculate the intercept for this model\n",
        "    solver='lbfgs',     # Algorithm to use in optimization ('lbfgs' is a good default)\n",
        "    max_iter=50,       # Maximum number of iterations for optimization\n",
        "    random_state=42,    # Seed for random number generation\n",
        ")"
      ]
    },
    {
      "cell_type": "code",
      "execution_count": null,
      "metadata": {
        "colab": {
          "base_uri": "https://localhost:8080/",
          "height": 213
        },
        "id": "4T4J60WErTL3",
        "outputId": "c07c31b3-6503-440d-8865-ddc252fc40a7"
      },
      "outputs": [
        {
          "output_type": "stream",
          "name": "stderr",
          "text": [
            "/usr/local/lib/python3.10/dist-packages/sklearn/linear_model/_logistic.py:458: ConvergenceWarning: lbfgs failed to converge (status=1):\n",
            "STOP: TOTAL NO. of ITERATIONS REACHED LIMIT.\n",
            "\n",
            "Increase the number of iterations (max_iter) or scale the data as shown in:\n",
            "    https://scikit-learn.org/stable/modules/preprocessing.html\n",
            "Please also refer to the documentation for alternative solver options:\n",
            "    https://scikit-learn.org/stable/modules/linear_model.html#logistic-regression\n",
            "  n_iter_i = _check_optimize_result(\n"
          ]
        },
        {
          "output_type": "execute_result",
          "data": {
            "text/plain": [
              "LogisticRegression(max_iter=50, random_state=42)"
            ],
            "text/html": [
              "<style>#sk-container-id-5 {color: black;background-color: white;}#sk-container-id-5 pre{padding: 0;}#sk-container-id-5 div.sk-toggleable {background-color: white;}#sk-container-id-5 label.sk-toggleable__label {cursor: pointer;display: block;width: 100%;margin-bottom: 0;padding: 0.3em;box-sizing: border-box;text-align: center;}#sk-container-id-5 label.sk-toggleable__label-arrow:before {content: \"▸\";float: left;margin-right: 0.25em;color: #696969;}#sk-container-id-5 label.sk-toggleable__label-arrow:hover:before {color: black;}#sk-container-id-5 div.sk-estimator:hover label.sk-toggleable__label-arrow:before {color: black;}#sk-container-id-5 div.sk-toggleable__content {max-height: 0;max-width: 0;overflow: hidden;text-align: left;background-color: #f0f8ff;}#sk-container-id-5 div.sk-toggleable__content pre {margin: 0.2em;color: black;border-radius: 0.25em;background-color: #f0f8ff;}#sk-container-id-5 input.sk-toggleable__control:checked~div.sk-toggleable__content {max-height: 200px;max-width: 100%;overflow: auto;}#sk-container-id-5 input.sk-toggleable__control:checked~label.sk-toggleable__label-arrow:before {content: \"▾\";}#sk-container-id-5 div.sk-estimator input.sk-toggleable__control:checked~label.sk-toggleable__label {background-color: #d4ebff;}#sk-container-id-5 div.sk-label input.sk-toggleable__control:checked~label.sk-toggleable__label {background-color: #d4ebff;}#sk-container-id-5 input.sk-hidden--visually {border: 0;clip: rect(1px 1px 1px 1px);clip: rect(1px, 1px, 1px, 1px);height: 1px;margin: -1px;overflow: hidden;padding: 0;position: absolute;width: 1px;}#sk-container-id-5 div.sk-estimator {font-family: monospace;background-color: #f0f8ff;border: 1px dotted black;border-radius: 0.25em;box-sizing: border-box;margin-bottom: 0.5em;}#sk-container-id-5 div.sk-estimator:hover {background-color: #d4ebff;}#sk-container-id-5 div.sk-parallel-item::after {content: \"\";width: 100%;border-bottom: 1px solid gray;flex-grow: 1;}#sk-container-id-5 div.sk-label:hover label.sk-toggleable__label {background-color: #d4ebff;}#sk-container-id-5 div.sk-serial::before {content: \"\";position: absolute;border-left: 1px solid gray;box-sizing: border-box;top: 0;bottom: 0;left: 50%;z-index: 0;}#sk-container-id-5 div.sk-serial {display: flex;flex-direction: column;align-items: center;background-color: white;padding-right: 0.2em;padding-left: 0.2em;position: relative;}#sk-container-id-5 div.sk-item {position: relative;z-index: 1;}#sk-container-id-5 div.sk-parallel {display: flex;align-items: stretch;justify-content: center;background-color: white;position: relative;}#sk-container-id-5 div.sk-item::before, #sk-container-id-5 div.sk-parallel-item::before {content: \"\";position: absolute;border-left: 1px solid gray;box-sizing: border-box;top: 0;bottom: 0;left: 50%;z-index: -1;}#sk-container-id-5 div.sk-parallel-item {display: flex;flex-direction: column;z-index: 1;position: relative;background-color: white;}#sk-container-id-5 div.sk-parallel-item:first-child::after {align-self: flex-end;width: 50%;}#sk-container-id-5 div.sk-parallel-item:last-child::after {align-self: flex-start;width: 50%;}#sk-container-id-5 div.sk-parallel-item:only-child::after {width: 0;}#sk-container-id-5 div.sk-dashed-wrapped {border: 1px dashed gray;margin: 0 0.4em 0.5em 0.4em;box-sizing: border-box;padding-bottom: 0.4em;background-color: white;}#sk-container-id-5 div.sk-label label {font-family: monospace;font-weight: bold;display: inline-block;line-height: 1.2em;}#sk-container-id-5 div.sk-label-container {text-align: center;}#sk-container-id-5 div.sk-container {/* jupyter's `normalize.less` sets `[hidden] { display: none; }` but bootstrap.min.css set `[hidden] { display: none !important; }` so we also need the `!important` here to be able to override the default hidden behavior on the sphinx rendered scikit-learn.org. See: https://github.com/scikit-learn/scikit-learn/issues/21755 */display: inline-block !important;position: relative;}#sk-container-id-5 div.sk-text-repr-fallback {display: none;}</style><div id=\"sk-container-id-5\" class=\"sk-top-container\"><div class=\"sk-text-repr-fallback\"><pre>LogisticRegression(max_iter=50, random_state=42)</pre><b>In a Jupyter environment, please rerun this cell to show the HTML representation or trust the notebook. <br />On GitHub, the HTML representation is unable to render, please try loading this page with nbviewer.org.</b></div><div class=\"sk-container\" hidden><div class=\"sk-item\"><div class=\"sk-estimator sk-toggleable\"><input class=\"sk-toggleable__control sk-hidden--visually\" id=\"sk-estimator-id-5\" type=\"checkbox\" checked><label for=\"sk-estimator-id-5\" class=\"sk-toggleable__label sk-toggleable__label-arrow\">LogisticRegression</label><div class=\"sk-toggleable__content\"><pre>LogisticRegression(max_iter=50, random_state=42)</pre></div></div></div></div></div>"
            ]
          },
          "metadata": {},
          "execution_count": 41
        }
      ],
      "source": [
        "# Fitting of model\n",
        "model_lr.fit(X_train, y_train)"
      ]
    },
    {
      "cell_type": "markdown",
      "metadata": {
        "id": "KlO0c9wYrmf1"
      },
      "source": [
        "### **Evaluation Pre-Tuning**"
      ]
    },
    {
      "cell_type": "code",
      "execution_count": null,
      "metadata": {
        "id": "kqBcpugfQet8"
      },
      "outputs": [],
      "source": [
        "def evaluate(y_true, y_pred):\n",
        "  # Calculate accuracy\n",
        "  accuracy = accuracy_score(y_true, y_pred)\n",
        "  print(f'accuracy: {accuracy * 100:.2f}%')\n",
        "\n",
        "  # Calculate precision for each class separately and then take the average\n",
        "  precision = precision_score(y_true, y_pred, average='macro')\n",
        "  print(f'precision: {precision * 100:.2f}%')\n",
        "\n",
        "  # Calculate recall for each class separately and then take the average\n",
        "  recall = recall_score(y_true, y_pred, average='macro')\n",
        "  print(f'recall: {recall * 100:.2f}%')\n",
        "\n",
        "  # Calculate the confusion matrix\n",
        "  conf_matrix = confusion_matrix(y_true, y_pred)\n",
        "  print(\"Confusion Matrix:\")\n",
        "  print(conf_matrix)"
      ]
    },
    {
      "cell_type": "code",
      "execution_count": null,
      "metadata": {
        "colab": {
          "base_uri": "https://localhost:8080/"
        },
        "id": "UG05firNrlwx",
        "outputId": "2b8af5d0-0572-4572-c786-8f2e5e4a8ffe"
      },
      "outputs": [
        {
          "output_type": "stream",
          "name": "stdout",
          "text": [
            "Evalution with Training Data:\n",
            "accuracy: 65.46%\n",
            "precision: 64.64%\n",
            "recall: 65.39%\n",
            "Confusion Matrix:\n",
            "[[898  72  30 175]\n",
            " [ 85 448 278 285]\n",
            " [  4 160 891  23]\n",
            " [141 256  50 717]]\n"
          ]
        }
      ],
      "source": [
        "# Evaluating with train data\n",
        "print('Evalution with Training Data:')\n",
        "y_train_pred = model_lr.predict(X_train)\n",
        "evaluate(y_train, y_train_pred)"
      ]
    },
    {
      "cell_type": "code",
      "execution_count": null,
      "metadata": {
        "colab": {
          "base_uri": "https://localhost:8080/"
        },
        "id": "qY47M-Zzrs__",
        "outputId": "881422bb-dc45-4173-fae8-3e4f76bcd7ba"
      },
      "outputs": [
        {
          "output_type": "stream",
          "name": "stdout",
          "text": [
            "\n",
            "Evaluation with Testing Data:\n",
            "accuracy: 66.15%\n",
            "precision: 65.19%\n",
            "recall: 66.02%\n",
            "Confusion Matrix:\n",
            "[[384  35  13  62]\n",
            " [ 45 200 110 136]\n",
            " [  0  59 416  19]\n",
            " [ 54  94  28 280]]\n"
          ]
        }
      ],
      "source": [
        "# Evaluation with test data\n",
        "print('\\nEvaluation with Testing Data:')\n",
        "y_test_pred = model_lr.predict(X_test)\n",
        "evaluate(y_test, y_test_pred)"
      ]
    },
    {
      "cell_type": "markdown",
      "source": [
        "### **Fixing Underfitting**"
      ],
      "metadata": {
        "id": "-XrcohN8Jv_G"
      }
    },
    {
      "cell_type": "markdown",
      "metadata": {
        "id": "TnagnjCQs8H8"
      },
      "source": [
        "#### **Hyper-parameter Tuning**"
      ]
    },
    {
      "cell_type": "code",
      "execution_count": null,
      "metadata": {
        "colab": {
          "base_uri": "https://localhost:8080/",
          "height": 285
        },
        "id": "qDScm0-osBmP",
        "outputId": "c59ad519-0f82-40d4-d954-339b90338cad"
      },
      "outputs": [
        {
          "output_type": "stream",
          "name": "stdout",
          "text": [
            "Fitting 5 folds for each of 72 candidates, totalling 360 fits\n"
          ]
        },
        {
          "output_type": "stream",
          "name": "stderr",
          "text": [
            "/usr/local/lib/python3.10/dist-packages/sklearn/linear_model/_sag.py:350: ConvergenceWarning: The max_iter was reached which means the coef_ did not converge\n",
            "  warnings.warn(\n",
            "/usr/local/lib/python3.10/dist-packages/sklearn/linear_model/_sag.py:350: ConvergenceWarning: The max_iter was reached which means the coef_ did not converge\n",
            "  warnings.warn(\n",
            "/usr/local/lib/python3.10/dist-packages/sklearn/linear_model/_sag.py:350: ConvergenceWarning: The max_iter was reached which means the coef_ did not converge\n",
            "  warnings.warn(\n",
            "/usr/local/lib/python3.10/dist-packages/sklearn/linear_model/_sag.py:350: ConvergenceWarning: The max_iter was reached which means the coef_ did not converge\n",
            "  warnings.warn(\n",
            "/usr/local/lib/python3.10/dist-packages/sklearn/linear_model/_sag.py:350: ConvergenceWarning: The max_iter was reached which means the coef_ did not converge\n",
            "  warnings.warn(\n"
          ]
        },
        {
          "output_type": "execute_result",
          "data": {
            "text/plain": [
              "LogisticRegression(C=10, solver='saga')"
            ],
            "text/html": [
              "<style>#sk-container-id-6 {color: black;background-color: white;}#sk-container-id-6 pre{padding: 0;}#sk-container-id-6 div.sk-toggleable {background-color: white;}#sk-container-id-6 label.sk-toggleable__label {cursor: pointer;display: block;width: 100%;margin-bottom: 0;padding: 0.3em;box-sizing: border-box;text-align: center;}#sk-container-id-6 label.sk-toggleable__label-arrow:before {content: \"▸\";float: left;margin-right: 0.25em;color: #696969;}#sk-container-id-6 label.sk-toggleable__label-arrow:hover:before {color: black;}#sk-container-id-6 div.sk-estimator:hover label.sk-toggleable__label-arrow:before {color: black;}#sk-container-id-6 div.sk-toggleable__content {max-height: 0;max-width: 0;overflow: hidden;text-align: left;background-color: #f0f8ff;}#sk-container-id-6 div.sk-toggleable__content pre {margin: 0.2em;color: black;border-radius: 0.25em;background-color: #f0f8ff;}#sk-container-id-6 input.sk-toggleable__control:checked~div.sk-toggleable__content {max-height: 200px;max-width: 100%;overflow: auto;}#sk-container-id-6 input.sk-toggleable__control:checked~label.sk-toggleable__label-arrow:before {content: \"▾\";}#sk-container-id-6 div.sk-estimator input.sk-toggleable__control:checked~label.sk-toggleable__label {background-color: #d4ebff;}#sk-container-id-6 div.sk-label input.sk-toggleable__control:checked~label.sk-toggleable__label {background-color: #d4ebff;}#sk-container-id-6 input.sk-hidden--visually {border: 0;clip: rect(1px 1px 1px 1px);clip: rect(1px, 1px, 1px, 1px);height: 1px;margin: -1px;overflow: hidden;padding: 0;position: absolute;width: 1px;}#sk-container-id-6 div.sk-estimator {font-family: monospace;background-color: #f0f8ff;border: 1px dotted black;border-radius: 0.25em;box-sizing: border-box;margin-bottom: 0.5em;}#sk-container-id-6 div.sk-estimator:hover {background-color: #d4ebff;}#sk-container-id-6 div.sk-parallel-item::after {content: \"\";width: 100%;border-bottom: 1px solid gray;flex-grow: 1;}#sk-container-id-6 div.sk-label:hover label.sk-toggleable__label {background-color: #d4ebff;}#sk-container-id-6 div.sk-serial::before {content: \"\";position: absolute;border-left: 1px solid gray;box-sizing: border-box;top: 0;bottom: 0;left: 50%;z-index: 0;}#sk-container-id-6 div.sk-serial {display: flex;flex-direction: column;align-items: center;background-color: white;padding-right: 0.2em;padding-left: 0.2em;position: relative;}#sk-container-id-6 div.sk-item {position: relative;z-index: 1;}#sk-container-id-6 div.sk-parallel {display: flex;align-items: stretch;justify-content: center;background-color: white;position: relative;}#sk-container-id-6 div.sk-item::before, #sk-container-id-6 div.sk-parallel-item::before {content: \"\";position: absolute;border-left: 1px solid gray;box-sizing: border-box;top: 0;bottom: 0;left: 50%;z-index: -1;}#sk-container-id-6 div.sk-parallel-item {display: flex;flex-direction: column;z-index: 1;position: relative;background-color: white;}#sk-container-id-6 div.sk-parallel-item:first-child::after {align-self: flex-end;width: 50%;}#sk-container-id-6 div.sk-parallel-item:last-child::after {align-self: flex-start;width: 50%;}#sk-container-id-6 div.sk-parallel-item:only-child::after {width: 0;}#sk-container-id-6 div.sk-dashed-wrapped {border: 1px dashed gray;margin: 0 0.4em 0.5em 0.4em;box-sizing: border-box;padding-bottom: 0.4em;background-color: white;}#sk-container-id-6 div.sk-label label {font-family: monospace;font-weight: bold;display: inline-block;line-height: 1.2em;}#sk-container-id-6 div.sk-label-container {text-align: center;}#sk-container-id-6 div.sk-container {/* jupyter's `normalize.less` sets `[hidden] { display: none; }` but bootstrap.min.css set `[hidden] { display: none !important; }` so we also need the `!important` here to be able to override the default hidden behavior on the sphinx rendered scikit-learn.org. See: https://github.com/scikit-learn/scikit-learn/issues/21755 */display: inline-block !important;position: relative;}#sk-container-id-6 div.sk-text-repr-fallback {display: none;}</style><div id=\"sk-container-id-6\" class=\"sk-top-container\"><div class=\"sk-text-repr-fallback\"><pre>LogisticRegression(C=10, solver=&#x27;saga&#x27;)</pre><b>In a Jupyter environment, please rerun this cell to show the HTML representation or trust the notebook. <br />On GitHub, the HTML representation is unable to render, please try loading this page with nbviewer.org.</b></div><div class=\"sk-container\" hidden><div class=\"sk-item\"><div class=\"sk-estimator sk-toggleable\"><input class=\"sk-toggleable__control sk-hidden--visually\" id=\"sk-estimator-id-6\" type=\"checkbox\" checked><label for=\"sk-estimator-id-6\" class=\"sk-toggleable__label sk-toggleable__label-arrow\">LogisticRegression</label><div class=\"sk-toggleable__content\"><pre>LogisticRegression(C=10, solver=&#x27;saga&#x27;)</pre></div></div></div></div></div>"
            ]
          },
          "metadata": {},
          "execution_count": 45
        }
      ],
      "source": [
        "# Define a grid of hyperparameters to search\n",
        "param_grid_lr = {\n",
        "    'penalty': ['l1', 'l2'],\n",
        "    'C': [0.001, 0.01, 0.1, 1, 10, 100],\n",
        "    'solver': ['liblinear', 'saga'],\n",
        "    'max_iter': [100, 500, 1000],\n",
        "}\n",
        "\n",
        "# Perform grid search with cross-validation\n",
        "grid_search_lr = GridSearchCV(estimator=model_lr, param_grid=param_grid_lr, cv=5, scoring='accuracy', verbose=1)\n",
        "grid_search_lr.fit(X_train, y_train)\n",
        "\n",
        "# Get the best hyperparameters\n",
        "best_params = grid_search_lr.best_params_\n",
        "\n",
        "# Train a Logistic Regression model with the best hyperparameters\n",
        "best_logistic_regression = LogisticRegression(**best_params)\n",
        "best_logistic_regression.fit(X_train, y_train)"
      ]
    },
    {
      "cell_type": "markdown",
      "metadata": {
        "id": "g-TmCKxKtLDu"
      },
      "source": [
        "#### **Evaluation of Model**"
      ]
    },
    {
      "cell_type": "code",
      "execution_count": null,
      "metadata": {
        "colab": {
          "base_uri": "https://localhost:8080/"
        },
        "id": "C1PU22yRtPLR",
        "outputId": "30683349-5f28-420b-9b70-045ac8ab38d3"
      },
      "outputs": [
        {
          "output_type": "stream",
          "name": "stdout",
          "text": [
            "Evaluation with Training Data:\n",
            "accuracy: 65.54%\n",
            "precision: 64.73%\n",
            "recall: 65.49%\n",
            "Confusion Matrix:\n",
            "[[900  79  24 172]\n",
            " [ 85 449 276 286]\n",
            " [  3 155 897  23]\n",
            " [142 266  44 712]]\n"
          ]
        }
      ],
      "source": [
        "# Evaluating with train data\n",
        "print('Evaluation with Training Data:')\n",
        "y_train_pred = best_logistic_regression.predict(X_train)\n",
        "evaluate(y_train, y_train_pred)"
      ]
    },
    {
      "cell_type": "code",
      "execution_count": null,
      "metadata": {
        "colab": {
          "base_uri": "https://localhost:8080/"
        },
        "id": "Gh4kUo9rtZ8f",
        "outputId": "82d9f179-4e04-4c5b-c051-ea7ff7e1444c"
      },
      "outputs": [
        {
          "output_type": "stream",
          "name": "stdout",
          "text": [
            "Evaluation with Testing Data:\n",
            "accuracy: 65.94%\n",
            "precision: 64.91%\n",
            "recall: 65.80%\n",
            "Confusion Matrix:\n",
            "[[383  36  13  62]\n",
            " [ 46 200 113 132]\n",
            " [  0  59 417  18]\n",
            " [ 58  96  26 276]]\n"
          ]
        }
      ],
      "source": [
        "# Evaluation with test data\n",
        "print('Evaluation with Testing Data:')\n",
        "y_test_pred = best_logistic_regression.predict(X_test)\n",
        "evaluate(y_test, y_test_pred)"
      ]
    },
    {
      "cell_type": "markdown",
      "metadata": {
        "id": "bOLr_L9EQ7oA"
      },
      "source": [
        "## **Random Forest Classifier**"
      ]
    },
    {
      "cell_type": "code",
      "execution_count": null,
      "metadata": {
        "colab": {
          "base_uri": "https://localhost:8080/",
          "height": 105
        },
        "id": "JSLTS7iItx33",
        "outputId": "bcf9f3d4-34c0-49a4-86ee-b61f1e9c6c74"
      },
      "outputs": [
        {
          "output_type": "execute_result",
          "data": {
            "text/plain": [
              "\"\\nrandom_forest = RandomForestClassifier(\\n    n_estimators=100,  # Number of trees in the forest\\n    max_depth=None,     # Maximum depth of the tree (None means no limit)\\n    min_samples_split=2,  # Minimum number of samples required to split an internal node\\n    min_samples_leaf=1,   # Minimum number of samples required to be at a leaf node\\n    max_features='auto',  # Number of features to consider for the best split ('auto' means sqrt(n_features))\\n    random_state=42,     # Seed for random number generation\\n    n_jobs=-1            # Number of CPU cores to use for parallelism (-1 uses all available cores)\\n)\""
            ],
            "application/vnd.google.colaboratory.intrinsic+json": {
              "type": "string"
            }
          },
          "metadata": {},
          "execution_count": 48
        }
      ],
      "source": [
        "'''\n",
        "random_forest = RandomForestClassifier(\n",
        "    n_estimators=100,  # Number of trees in the forest\n",
        "    max_depth=None,     # Maximum depth of the tree (None means no limit)\n",
        "    min_samples_split=2,  # Minimum number of samples required to split an internal node\n",
        "    min_samples_leaf=1,   # Minimum number of samples required to be at a leaf node\n",
        "    max_features='auto',  # Number of features to consider for the best split ('auto' means sqrt(n_features))\n",
        "    random_state=42,     # Seed for random number generation\n",
        "    n_jobs=-1            # Number of CPU cores to use for parallelism (-1 uses all available cores)\n",
        ")'''"
      ]
    },
    {
      "cell_type": "code",
      "execution_count": null,
      "metadata": {
        "colab": {
          "base_uri": "https://localhost:8080/",
          "height": 74
        },
        "id": "Wa_a342ZQ4hN",
        "outputId": "4904c1eb-9639-4a61-d0d7-a49a95e1fd55"
      },
      "outputs": [
        {
          "output_type": "execute_result",
          "data": {
            "text/plain": [
              "RandomForestClassifier(n_estimators=200, random_state=42)"
            ],
            "text/html": [
              "<style>#sk-container-id-7 {color: black;background-color: white;}#sk-container-id-7 pre{padding: 0;}#sk-container-id-7 div.sk-toggleable {background-color: white;}#sk-container-id-7 label.sk-toggleable__label {cursor: pointer;display: block;width: 100%;margin-bottom: 0;padding: 0.3em;box-sizing: border-box;text-align: center;}#sk-container-id-7 label.sk-toggleable__label-arrow:before {content: \"▸\";float: left;margin-right: 0.25em;color: #696969;}#sk-container-id-7 label.sk-toggleable__label-arrow:hover:before {color: black;}#sk-container-id-7 div.sk-estimator:hover label.sk-toggleable__label-arrow:before {color: black;}#sk-container-id-7 div.sk-toggleable__content {max-height: 0;max-width: 0;overflow: hidden;text-align: left;background-color: #f0f8ff;}#sk-container-id-7 div.sk-toggleable__content pre {margin: 0.2em;color: black;border-radius: 0.25em;background-color: #f0f8ff;}#sk-container-id-7 input.sk-toggleable__control:checked~div.sk-toggleable__content {max-height: 200px;max-width: 100%;overflow: auto;}#sk-container-id-7 input.sk-toggleable__control:checked~label.sk-toggleable__label-arrow:before {content: \"▾\";}#sk-container-id-7 div.sk-estimator input.sk-toggleable__control:checked~label.sk-toggleable__label {background-color: #d4ebff;}#sk-container-id-7 div.sk-label input.sk-toggleable__control:checked~label.sk-toggleable__label {background-color: #d4ebff;}#sk-container-id-7 input.sk-hidden--visually {border: 0;clip: rect(1px 1px 1px 1px);clip: rect(1px, 1px, 1px, 1px);height: 1px;margin: -1px;overflow: hidden;padding: 0;position: absolute;width: 1px;}#sk-container-id-7 div.sk-estimator {font-family: monospace;background-color: #f0f8ff;border: 1px dotted black;border-radius: 0.25em;box-sizing: border-box;margin-bottom: 0.5em;}#sk-container-id-7 div.sk-estimator:hover {background-color: #d4ebff;}#sk-container-id-7 div.sk-parallel-item::after {content: \"\";width: 100%;border-bottom: 1px solid gray;flex-grow: 1;}#sk-container-id-7 div.sk-label:hover label.sk-toggleable__label {background-color: #d4ebff;}#sk-container-id-7 div.sk-serial::before {content: \"\";position: absolute;border-left: 1px solid gray;box-sizing: border-box;top: 0;bottom: 0;left: 50%;z-index: 0;}#sk-container-id-7 div.sk-serial {display: flex;flex-direction: column;align-items: center;background-color: white;padding-right: 0.2em;padding-left: 0.2em;position: relative;}#sk-container-id-7 div.sk-item {position: relative;z-index: 1;}#sk-container-id-7 div.sk-parallel {display: flex;align-items: stretch;justify-content: center;background-color: white;position: relative;}#sk-container-id-7 div.sk-item::before, #sk-container-id-7 div.sk-parallel-item::before {content: \"\";position: absolute;border-left: 1px solid gray;box-sizing: border-box;top: 0;bottom: 0;left: 50%;z-index: -1;}#sk-container-id-7 div.sk-parallel-item {display: flex;flex-direction: column;z-index: 1;position: relative;background-color: white;}#sk-container-id-7 div.sk-parallel-item:first-child::after {align-self: flex-end;width: 50%;}#sk-container-id-7 div.sk-parallel-item:last-child::after {align-self: flex-start;width: 50%;}#sk-container-id-7 div.sk-parallel-item:only-child::after {width: 0;}#sk-container-id-7 div.sk-dashed-wrapped {border: 1px dashed gray;margin: 0 0.4em 0.5em 0.4em;box-sizing: border-box;padding-bottom: 0.4em;background-color: white;}#sk-container-id-7 div.sk-label label {font-family: monospace;font-weight: bold;display: inline-block;line-height: 1.2em;}#sk-container-id-7 div.sk-label-container {text-align: center;}#sk-container-id-7 div.sk-container {/* jupyter's `normalize.less` sets `[hidden] { display: none; }` but bootstrap.min.css set `[hidden] { display: none !important; }` so we also need the `!important` here to be able to override the default hidden behavior on the sphinx rendered scikit-learn.org. See: https://github.com/scikit-learn/scikit-learn/issues/21755 */display: inline-block !important;position: relative;}#sk-container-id-7 div.sk-text-repr-fallback {display: none;}</style><div id=\"sk-container-id-7\" class=\"sk-top-container\"><div class=\"sk-text-repr-fallback\"><pre>RandomForestClassifier(n_estimators=200, random_state=42)</pre><b>In a Jupyter environment, please rerun this cell to show the HTML representation or trust the notebook. <br />On GitHub, the HTML representation is unable to render, please try loading this page with nbviewer.org.</b></div><div class=\"sk-container\" hidden><div class=\"sk-item\"><div class=\"sk-estimator sk-toggleable\"><input class=\"sk-toggleable__control sk-hidden--visually\" id=\"sk-estimator-id-7\" type=\"checkbox\" checked><label for=\"sk-estimator-id-7\" class=\"sk-toggleable__label sk-toggleable__label-arrow\">RandomForestClassifier</label><div class=\"sk-toggleable__content\"><pre>RandomForestClassifier(n_estimators=200, random_state=42)</pre></div></div></div></div></div>"
            ]
          },
          "metadata": {},
          "execution_count": 49
        }
      ],
      "source": [
        "model = RandomForestClassifier(n_estimators=200, max_depth = None, random_state=42)\n",
        "model.fit(X_train, y_train)"
      ]
    },
    {
      "cell_type": "markdown",
      "metadata": {
        "id": "xdxcMpBXU-j6"
      },
      "source": [
        "### **Evaluation Pre-Tuning**"
      ]
    },
    {
      "cell_type": "code",
      "execution_count": null,
      "metadata": {
        "colab": {
          "base_uri": "https://localhost:8080/"
        },
        "id": "3vSWZ_-iPHaw",
        "outputId": "a12c2639-896c-487c-f774-69f9d4bcfa6f"
      },
      "outputs": [
        {
          "output_type": "stream",
          "name": "stdout",
          "text": [
            "accuracy: 99.18%\n",
            "precision: 99.20%\n",
            "recall: 99.19%\n",
            "Confusion Matrix:\n",
            "[[1167    0    0    8]\n",
            " [   0 1085    0   11]\n",
            " [   0    0 1077    1]\n",
            " [   9    7    1 1147]]\n"
          ]
        }
      ],
      "source": [
        "# Evaluating with train data\n",
        "y_train_pred = model.predict(X_train)\n",
        "evaluate(y_train, y_train_pred)"
      ]
    },
    {
      "cell_type": "code",
      "execution_count": null,
      "metadata": {
        "colab": {
          "base_uri": "https://localhost:8080/"
        },
        "id": "o-w9t6haRxl4",
        "outputId": "e09c2c73-9325-4afe-cbcf-4eecb41b8e2d"
      },
      "outputs": [
        {
          "output_type": "stream",
          "name": "stdout",
          "text": [
            "accuracy: 82.22%\n",
            "precision: 81.81%\n",
            "recall: 82.12%\n",
            "Confusion Matrix:\n",
            "[[447  17   5  25]\n",
            " [ 32 325  56  78]\n",
            " [  0  21 463  10]\n",
            " [ 31  60   9 356]]\n"
          ]
        }
      ],
      "source": [
        "# Evaluation with test data\n",
        "y_test_pred = model.predict(X_test)\n",
        "evaluate(y_test, y_test_pred)"
      ]
    },
    {
      "cell_type": "markdown",
      "source": [
        "### **Fixing Overfitting**"
      ],
      "metadata": {
        "id": "PyvYD_sq8_JF"
      }
    },
    {
      "cell_type": "markdown",
      "source": [
        "#### **Selection of Features**"
      ],
      "metadata": {
        "id": "Jt9HnEie9Zoh"
      }
    },
    {
      "cell_type": "code",
      "source": [
        "# Your list of strings\n",
        "input_list = list(df.columns[:-1])\n",
        "\n",
        "# Initialize an empty list to store the combinations of lists\n",
        "combinations_of_lists = []\n",
        "\n",
        "# Generate combinations of different lengths from the input list\n",
        "for r in range(1, len(input_list) + 1):\n",
        "    # Use itertools.combinations to generate combinations of length 'r'\n",
        "    for combo in combinations(input_list, r):\n",
        "        combinations_of_lists.append(list(combo))\n",
        "\n",
        "# Include an empty list as one of the combinations\n",
        "combinations_of_lists.append([])\n",
        "\n",
        "# Print the resulting list of combinations\n",
        "for combo in combinations_of_lists:\n",
        "    print(combo)"
      ],
      "metadata": {
        "colab": {
          "base_uri": "https://localhost:8080/"
        },
        "id": "0yeUPR1j9eXr",
        "outputId": "024f5381-9975-4e88-fada-9c1786de97a2"
      },
      "execution_count": null,
      "outputs": [
        {
          "output_type": "stream",
          "name": "stdout",
          "text": [
            "['danceability']\n",
            "['loudness']\n",
            "['speechiness']\n",
            "['acousticness']\n",
            "['valence']\n",
            "['duration_in min/ms']\n",
            "['danceability', 'loudness']\n",
            "['danceability', 'speechiness']\n",
            "['danceability', 'acousticness']\n",
            "['danceability', 'valence']\n",
            "['danceability', 'duration_in min/ms']\n",
            "['loudness', 'speechiness']\n",
            "['loudness', 'acousticness']\n",
            "['loudness', 'valence']\n",
            "['loudness', 'duration_in min/ms']\n",
            "['speechiness', 'acousticness']\n",
            "['speechiness', 'valence']\n",
            "['speechiness', 'duration_in min/ms']\n",
            "['acousticness', 'valence']\n",
            "['acousticness', 'duration_in min/ms']\n",
            "['valence', 'duration_in min/ms']\n",
            "['danceability', 'loudness', 'speechiness']\n",
            "['danceability', 'loudness', 'acousticness']\n",
            "['danceability', 'loudness', 'valence']\n",
            "['danceability', 'loudness', 'duration_in min/ms']\n",
            "['danceability', 'speechiness', 'acousticness']\n",
            "['danceability', 'speechiness', 'valence']\n",
            "['danceability', 'speechiness', 'duration_in min/ms']\n",
            "['danceability', 'acousticness', 'valence']\n",
            "['danceability', 'acousticness', 'duration_in min/ms']\n",
            "['danceability', 'valence', 'duration_in min/ms']\n",
            "['loudness', 'speechiness', 'acousticness']\n",
            "['loudness', 'speechiness', 'valence']\n",
            "['loudness', 'speechiness', 'duration_in min/ms']\n",
            "['loudness', 'acousticness', 'valence']\n",
            "['loudness', 'acousticness', 'duration_in min/ms']\n",
            "['loudness', 'valence', 'duration_in min/ms']\n",
            "['speechiness', 'acousticness', 'valence']\n",
            "['speechiness', 'acousticness', 'duration_in min/ms']\n",
            "['speechiness', 'valence', 'duration_in min/ms']\n",
            "['acousticness', 'valence', 'duration_in min/ms']\n",
            "['danceability', 'loudness', 'speechiness', 'acousticness']\n",
            "['danceability', 'loudness', 'speechiness', 'valence']\n",
            "['danceability', 'loudness', 'speechiness', 'duration_in min/ms']\n",
            "['danceability', 'loudness', 'acousticness', 'valence']\n",
            "['danceability', 'loudness', 'acousticness', 'duration_in min/ms']\n",
            "['danceability', 'loudness', 'valence', 'duration_in min/ms']\n",
            "['danceability', 'speechiness', 'acousticness', 'valence']\n",
            "['danceability', 'speechiness', 'acousticness', 'duration_in min/ms']\n",
            "['danceability', 'speechiness', 'valence', 'duration_in min/ms']\n",
            "['danceability', 'acousticness', 'valence', 'duration_in min/ms']\n",
            "['loudness', 'speechiness', 'acousticness', 'valence']\n",
            "['loudness', 'speechiness', 'acousticness', 'duration_in min/ms']\n",
            "['loudness', 'speechiness', 'valence', 'duration_in min/ms']\n",
            "['loudness', 'acousticness', 'valence', 'duration_in min/ms']\n",
            "['speechiness', 'acousticness', 'valence', 'duration_in min/ms']\n",
            "['danceability', 'loudness', 'speechiness', 'acousticness', 'valence']\n",
            "['danceability', 'loudness', 'speechiness', 'acousticness', 'duration_in min/ms']\n",
            "['danceability', 'loudness', 'speechiness', 'valence', 'duration_in min/ms']\n",
            "['danceability', 'loudness', 'acousticness', 'valence', 'duration_in min/ms']\n",
            "['danceability', 'speechiness', 'acousticness', 'valence', 'duration_in min/ms']\n",
            "['loudness', 'speechiness', 'acousticness', 'valence', 'duration_in min/ms']\n",
            "['danceability', 'loudness', 'speechiness', 'acousticness', 'valence', 'duration_in min/ms']\n",
            "[]\n"
          ]
        }
      ]
    },
    {
      "cell_type": "code",
      "source": [
        "for cols in combinations_of_lists[:-1]:\n",
        "  new_df = df[cols + ['Class']]\n",
        "  # Target variable and features\n",
        "  X = new_df.drop('Class', axis=1)\n",
        "  y = new_df['Class']\n",
        "\n",
        "  # Train, validation and test sets\n",
        "  X_train, X_test, y_train, y_test = train_test_split(X, y, test_size=0.3, random_state=42)\n",
        "\n",
        "  new_model = RandomForestClassifier(n_estimators=10, random_state=42)\n",
        "  new_model.fit(X_train, y_train)\n",
        "\n",
        "  print('\\n=============================================')\n",
        "  print(cols)\n",
        "  y_train_pred = new_model.predict(X_train)\n",
        "  accuracy = accuracy_score(y_train, y_train_pred)\n",
        "  print(f'Accuracy (Training): {accuracy * 100:.2f}%')\n",
        "\n",
        "  y_test_pred = new_model.predict(X_test)\n",
        "  accuracy = accuracy_score(y_test, y_test_pred)\n",
        "  print(f'Accuracy (Testing): {accuracy * 100:.2f}%')"
      ],
      "metadata": {
        "colab": {
          "base_uri": "https://localhost:8080/"
        },
        "id": "65Z4Cqjn959i",
        "outputId": "c6c79247-eb1a-4430-e464-45686537c8b1"
      },
      "execution_count": null,
      "outputs": [
        {
          "output_type": "stream",
          "name": "stdout",
          "text": [
            "\n",
            "=============================================\n",
            "['danceability']\n",
            "Accuracy (Training): 61.51%\n",
            "Accuracy (Testing): 50.96%\n",
            "\n",
            "=============================================\n",
            "['loudness']\n",
            "Accuracy (Training): 88.03%\n",
            "Accuracy (Testing): 59.69%\n",
            "\n",
            "=============================================\n",
            "['speechiness']\n",
            "Accuracy (Training): 65.77%\n",
            "Accuracy (Testing): 51.63%\n",
            "\n",
            "=============================================\n",
            "['acousticness']\n",
            "Accuracy (Training): 78.77%\n",
            "Accuracy (Testing): 57.83%\n",
            "\n",
            "=============================================\n",
            "['valence']\n",
            "Accuracy (Training): 60.62%\n",
            "Accuracy (Testing): 44.08%\n",
            "\n",
            "=============================================\n",
            "['duration_in min/ms']\n",
            "Accuracy (Training): 93.13%\n",
            "Accuracy (Testing): 63.31%\n",
            "\n",
            "=============================================\n",
            "['danceability', 'loudness']\n",
            "Accuracy (Training): 97.58%\n",
            "Accuracy (Testing): 69.77%\n",
            "\n",
            "=============================================\n",
            "['danceability', 'speechiness']\n",
            "Accuracy (Training): 97.65%\n",
            "Accuracy (Testing): 74.01%\n",
            "\n",
            "=============================================\n",
            "['danceability', 'acousticness']\n",
            "Accuracy (Training): 97.76%\n",
            "Accuracy (Testing): 71.89%\n",
            "\n",
            "=============================================\n",
            "['danceability', 'valence']\n",
            "Accuracy (Training): 97.16%\n",
            "Accuracy (Testing): 69.20%\n",
            "\n",
            "=============================================\n",
            "['danceability', 'duration_in min/ms']\n",
            "Accuracy (Training): 97.54%\n",
            "Accuracy (Testing): 70.39%\n",
            "\n",
            "=============================================\n",
            "['loudness', 'speechiness']\n",
            "Accuracy (Training): 97.81%\n",
            "Accuracy (Testing): 69.92%\n",
            "\n",
            "=============================================\n",
            "['loudness', 'acousticness']\n",
            "Accuracy (Training): 97.72%\n",
            "Accuracy (Testing): 71.52%\n",
            "\n",
            "=============================================\n",
            "['loudness', 'valence']\n",
            "Accuracy (Training): 97.63%\n",
            "Accuracy (Testing): 67.49%\n",
            "\n",
            "=============================================\n",
            "['loudness', 'duration_in min/ms']\n",
            "Accuracy (Training): 97.67%\n",
            "Accuracy (Testing): 67.80%\n",
            "\n",
            "=============================================\n",
            "['speechiness', 'acousticness']\n",
            "Accuracy (Training): 97.70%\n",
            "Accuracy (Testing): 74.21%\n",
            "\n",
            "=============================================\n",
            "['speechiness', 'valence']\n",
            "Accuracy (Training): 97.61%\n",
            "Accuracy (Testing): 70.44%\n",
            "\n",
            "=============================================\n",
            "['speechiness', 'duration_in min/ms']\n",
            "Accuracy (Training): 97.96%\n",
            "Accuracy (Testing): 72.35%\n",
            "\n",
            "=============================================\n",
            "['acousticness', 'valence']\n",
            "Accuracy (Training): 97.54%\n",
            "Accuracy (Testing): 71.32%\n",
            "\n",
            "=============================================\n",
            "['acousticness', 'duration_in min/ms']\n",
            "Accuracy (Training): 97.92%\n",
            "Accuracy (Testing): 71.21%\n",
            "\n",
            "=============================================\n",
            "['valence', 'duration_in min/ms']\n",
            "Accuracy (Training): 97.70%\n",
            "Accuracy (Testing): 67.44%\n",
            "\n",
            "=============================================\n",
            "['danceability', 'loudness', 'speechiness']\n",
            "Accuracy (Training): 97.96%\n",
            "Accuracy (Testing): 74.99%\n",
            "\n",
            "=============================================\n",
            "['danceability', 'loudness', 'acousticness']\n",
            "Accuracy (Training): 98.07%\n",
            "Accuracy (Testing): 73.39%\n",
            "\n",
            "=============================================\n",
            "['danceability', 'loudness', 'valence']\n",
            "Accuracy (Training): 98.18%\n",
            "Accuracy (Testing): 73.49%\n",
            "\n",
            "=============================================\n",
            "['danceability', 'loudness', 'duration_in min/ms']\n",
            "Accuracy (Training): 97.83%\n",
            "Accuracy (Testing): 73.54%\n",
            "\n",
            "=============================================\n",
            "['danceability', 'speechiness', 'acousticness']\n",
            "Accuracy (Training): 97.98%\n",
            "Accuracy (Testing): 77.16%\n",
            "\n",
            "=============================================\n",
            "['danceability', 'speechiness', 'valence']\n",
            "Accuracy (Training): 97.74%\n",
            "Accuracy (Testing): 75.87%\n",
            "\n",
            "=============================================\n",
            "['danceability', 'speechiness', 'duration_in min/ms']\n",
            "Accuracy (Training): 98.09%\n",
            "Accuracy (Testing): 75.87%\n",
            "\n",
            "=============================================\n",
            "['danceability', 'acousticness', 'valence']\n",
            "Accuracy (Training): 98.03%\n",
            "Accuracy (Testing): 73.64%\n",
            "\n",
            "=============================================\n",
            "['danceability', 'acousticness', 'duration_in min/ms']\n",
            "Accuracy (Training): 98.27%\n",
            "Accuracy (Testing): 74.52%\n",
            "\n",
            "=============================================\n",
            "['danceability', 'valence', 'duration_in min/ms']\n",
            "Accuracy (Training): 98.25%\n",
            "Accuracy (Testing): 72.25%\n",
            "\n",
            "=============================================\n",
            "['loudness', 'speechiness', 'acousticness']\n",
            "Accuracy (Training): 98.16%\n",
            "Accuracy (Testing): 76.18%\n",
            "\n",
            "=============================================\n",
            "['loudness', 'speechiness', 'valence']\n",
            "Accuracy (Training): 98.07%\n",
            "Accuracy (Testing): 73.80%\n",
            "\n",
            "=============================================\n",
            "['loudness', 'speechiness', 'duration_in min/ms']\n",
            "Accuracy (Training): 98.01%\n",
            "Accuracy (Testing): 73.59%\n",
            "\n",
            "=============================================\n",
            "['loudness', 'acousticness', 'valence']\n",
            "Accuracy (Training): 97.92%\n",
            "Accuracy (Testing): 71.89%\n",
            "\n",
            "=============================================\n",
            "['loudness', 'acousticness', 'duration_in min/ms']\n",
            "Accuracy (Training): 98.16%\n",
            "Accuracy (Testing): 71.52%\n",
            "\n",
            "=============================================\n",
            "['loudness', 'valence', 'duration_in min/ms']\n",
            "Accuracy (Training): 98.01%\n",
            "Accuracy (Testing): 70.39%\n",
            "\n",
            "=============================================\n",
            "['speechiness', 'acousticness', 'valence']\n",
            "Accuracy (Training): 98.23%\n",
            "Accuracy (Testing): 75.97%\n",
            "\n",
            "=============================================\n",
            "['speechiness', 'acousticness', 'duration_in min/ms']\n",
            "Accuracy (Training): 98.14%\n",
            "Accuracy (Testing): 78.09%\n",
            "\n",
            "=============================================\n",
            "['speechiness', 'valence', 'duration_in min/ms']\n",
            "Accuracy (Training): 98.07%\n",
            "Accuracy (Testing): 75.35%\n",
            "\n",
            "=============================================\n",
            "['acousticness', 'valence', 'duration_in min/ms']\n",
            "Accuracy (Training): 98.05%\n",
            "Accuracy (Testing): 74.06%\n",
            "\n",
            "=============================================\n",
            "['danceability', 'loudness', 'speechiness', 'acousticness']\n",
            "Accuracy (Training): 98.23%\n",
            "Accuracy (Testing): 77.78%\n",
            "\n",
            "=============================================\n",
            "['danceability', 'loudness', 'speechiness', 'valence']\n",
            "Accuracy (Training): 98.09%\n",
            "Accuracy (Testing): 76.23%\n",
            "\n",
            "=============================================\n",
            "['danceability', 'loudness', 'speechiness', 'duration_in min/ms']\n",
            "Accuracy (Training): 98.14%\n",
            "Accuracy (Testing): 78.40%\n",
            "\n",
            "=============================================\n",
            "['danceability', 'loudness', 'acousticness', 'valence']\n",
            "Accuracy (Training): 98.09%\n",
            "Accuracy (Testing): 74.42%\n",
            "\n",
            "=============================================\n",
            "['danceability', 'loudness', 'acousticness', 'duration_in min/ms']\n",
            "Accuracy (Training): 98.27%\n",
            "Accuracy (Testing): 75.30%\n",
            "\n",
            "=============================================\n",
            "['danceability', 'loudness', 'valence', 'duration_in min/ms']\n",
            "Accuracy (Training): 98.12%\n",
            "Accuracy (Testing): 73.95%\n",
            "\n",
            "=============================================\n",
            "['danceability', 'speechiness', 'acousticness', 'valence']\n",
            "Accuracy (Training): 97.92%\n",
            "Accuracy (Testing): 78.97%\n",
            "\n",
            "=============================================\n",
            "['danceability', 'speechiness', 'acousticness', 'duration_in min/ms']\n",
            "Accuracy (Training): 98.43%\n",
            "Accuracy (Testing): 80.10%\n",
            "\n",
            "=============================================\n",
            "['danceability', 'speechiness', 'valence', 'duration_in min/ms']\n",
            "Accuracy (Training): 98.34%\n",
            "Accuracy (Testing): 77.88%\n",
            "\n",
            "=============================================\n",
            "['danceability', 'acousticness', 'valence', 'duration_in min/ms']\n",
            "Accuracy (Training): 98.38%\n",
            "Accuracy (Testing): 74.94%\n",
            "\n",
            "=============================================\n",
            "['loudness', 'speechiness', 'acousticness', 'valence']\n",
            "Accuracy (Training): 98.21%\n",
            "Accuracy (Testing): 77.26%\n",
            "\n",
            "=============================================\n",
            "['loudness', 'speechiness', 'acousticness', 'duration_in min/ms']\n",
            "Accuracy (Training): 98.21%\n",
            "Accuracy (Testing): 79.22%\n",
            "\n",
            "=============================================\n",
            "['loudness', 'speechiness', 'valence', 'duration_in min/ms']\n",
            "Accuracy (Training): 98.05%\n",
            "Accuracy (Testing): 77.00%\n",
            "\n",
            "=============================================\n",
            "['loudness', 'acousticness', 'valence', 'duration_in min/ms']\n",
            "Accuracy (Training): 98.27%\n",
            "Accuracy (Testing): 73.70%\n",
            "\n",
            "=============================================\n",
            "['speechiness', 'acousticness', 'valence', 'duration_in min/ms']\n",
            "Accuracy (Training): 98.43%\n",
            "Accuracy (Testing): 78.40%\n",
            "\n",
            "=============================================\n",
            "['danceability', 'loudness', 'speechiness', 'acousticness', 'valence']\n",
            "Accuracy (Training): 98.43%\n",
            "Accuracy (Testing): 78.19%\n",
            "\n",
            "=============================================\n",
            "['danceability', 'loudness', 'speechiness', 'acousticness', 'duration_in min/ms']\n",
            "Accuracy (Training): 98.56%\n",
            "Accuracy (Testing): 80.26%\n",
            "\n",
            "=============================================\n",
            "['danceability', 'loudness', 'speechiness', 'valence', 'duration_in min/ms']\n",
            "Accuracy (Training): 98.47%\n",
            "Accuracy (Testing): 78.14%\n",
            "\n",
            "=============================================\n",
            "['danceability', 'loudness', 'acousticness', 'valence', 'duration_in min/ms']\n",
            "Accuracy (Training): 98.58%\n",
            "Accuracy (Testing): 74.78%\n",
            "\n",
            "=============================================\n",
            "['danceability', 'speechiness', 'acousticness', 'valence', 'duration_in min/ms']\n",
            "Accuracy (Training): 98.40%\n",
            "Accuracy (Testing): 81.29%\n",
            "\n",
            "=============================================\n",
            "['loudness', 'speechiness', 'acousticness', 'valence', 'duration_in min/ms']\n",
            "Accuracy (Training): 98.34%\n",
            "Accuracy (Testing): 79.02%\n",
            "\n",
            "=============================================\n",
            "['danceability', 'loudness', 'speechiness', 'acousticness', 'valence', 'duration_in min/ms']\n",
            "Accuracy (Training): 98.49%\n",
            "Accuracy (Testing): 81.29%\n"
          ]
        }
      ]
    },
    {
      "cell_type": "markdown",
      "metadata": {
        "id": "oweOFCQFUHmn"
      },
      "source": [
        "#### **Graphs (Complexity vs Error)**"
      ]
    },
    {
      "cell_type": "code",
      "execution_count": null,
      "metadata": {
        "id": "3OtUZsIpab1Y"
      },
      "outputs": [],
      "source": [
        "def complexity_error(complexity_par, max_depth_values = False, n_estimator_values = False):\n",
        "  score_complexity = []\n",
        "\n",
        "  if max_depth_values is not False: # is empty\n",
        "    complexity_values = max_depth_values\n",
        "    for value in complexity_values:\n",
        "      # Create your RandomForestClassifier with desired hyperparameters\n",
        "      rf_classifier = RandomForestClassifier(n_estimators=100, max_depth=value, random_state=42)\n",
        "      # Perform 5-fold cross-validation (you can change the number of folds with the cv parameter)\n",
        "      scores = cross_val_score(rf_classifier, X_train, y_train, cv=5)\n",
        "      score_complexity.append(1 - scores.mean())\n",
        "\n",
        "  elif n_estimator_values is not False:\n",
        "    complexity_values = n_estimator_values\n",
        "    for value in complexity_values:\n",
        "      # Create your RandomForestClassifier with desired hyperparameters\n",
        "      rf_classifier = RandomForestClassifier(n_estimators=value, max_depth=200, random_state=42)\n",
        "      # Perform 5-fold cross-validation (you can change the number of folds with the cv parameter)\n",
        "      scores = cross_val_score(rf_classifier, X_train, y_train, cv=5)\n",
        "      score_complexity.append(1 - scores.mean())\n",
        "\n",
        "\n",
        "  print(score_complexity)\n",
        "  print(n_estimator_values)\n",
        "  # Create a polygon graph (line plot)\n",
        "  plt.figure(figsize=(8, 6))\n",
        "  plt.plot(complexity_values, score_complexity, marker='o', linestyle='-')\n",
        "  plt.xlabel('Complexity')\n",
        "  plt.ylabel('Error')\n",
        "  plt.title(complexity_par + ' Complexity')\n",
        "  plt.grid(True)\n",
        "  plt.show()"
      ]
    },
    {
      "cell_type": "markdown",
      "source": [
        "#### **Cross-Validation for Hyper-parameter Tuning**"
      ],
      "metadata": {
        "id": "XHn9V6f_-Czu"
      }
    },
    {
      "cell_type": "code",
      "execution_count": null,
      "metadata": {
        "colab": {
          "base_uri": "https://localhost:8080/",
          "height": 619
        },
        "id": "-mzXhnpcUHE7",
        "outputId": "41c92abb-55bd-4fc4-cb99-b8c0a5d88ebb"
      },
      "outputs": [
        {
          "output_type": "stream",
          "name": "stdout",
          "text": [
            "[0.39574613323904306, 0.3709278998558636, 0.3503208079498493, 0.33459029153867503, 0.32129560739884044, 0.3017981451333691, 0.2878407279995482, 0.2650178144789602, 0.24374455191244748, 0.22690465140833838, 0.18679739621316482, 0.189678651845413, 0.1872408551932091, 0.18768406862564557, 0.18768406862564557, 0.18768406862564557, 0.18768406862564557, 0.18768406862564557]\n",
            "False\n"
          ]
        },
        {
          "output_type": "display_data",
          "data": {
            "text/plain": [
              "<Figure size 800x600 with 1 Axes>"
            ],
            "image/png": "[encoded data removed]"
          },
          "metadata": {}
        }
      ],
      "source": [
        "max_depth_values = [1, 2, 3, 4, 5, 6, 7, 8, 9, 10, 15, 20, 30, 50, 75, 100, 200, 300 ]\n",
        "complexity_error('Max-Depth', max_depth_values = max_depth_values)"
      ]
    },
    {
      "cell_type": "code",
      "execution_count": null,
      "metadata": {
        "colab": {
          "base_uri": "https://localhost:8080/",
          "height": 619
        },
        "id": "t-8XRAILvjxn",
        "outputId": "13bf6607-3b61-4555-dacc-dee7861887ba"
      },
      "outputs": [
        {
          "output_type": "stream",
          "name": "stdout",
          "text": [
            "[0.2978075054081861, 0.29470132816701167, 0.24507075454324467, 0.237979339624263, 0.22269350993117298, 0.2215833891954142, 0.20939366929157066, 0.20784279059945532, 0.2056277056277056, 0.20540548504246747, 0.19853899173241207, 0.19566092821906766, 0.19344265112841408, 0.19588363989952184, 0.1901221108254575, 0.18768406862564557, 0.18635541051876847, 0.18591293372915607]\n",
            "[1, 2, 3, 4, 5, 6, 7, 8, 9, 10, 15, 20, 30, 50, 75, 100, 200, 300]\n"
          ]
        },
        {
          "output_type": "display_data",
          "data": {
            "text/plain": [
              "<Figure size 800x600 with 1 Axes>"
            ],
            "image/png": "[encoded data removed]"
          },
          "metadata": {}
        }
      ],
      "source": [
        "n_estimator_values = [1, 2, 3, 4, 5, 6, 7, 8, 9, 10, 15, 20, 30, 50, 75, 100, 200, 300 ]\n",
        "complexity_error('N-Estimators', n_estimator_values = n_estimator_values)"
      ]
    },
    {
      "cell_type": "code",
      "execution_count": null,
      "metadata": {
        "colab": {
          "base_uri": "https://localhost:8080/",
          "height": 472
        },
        "id": "bmNlL2JnbLfL",
        "outputId": "14044c00-7dc3-42d2-ea62-5d8b21a09e01"
      },
      "outputs": [
        {
          "output_type": "display_data",
          "data": {
            "text/plain": [
              "<Figure size 640x480 with 1 Axes>"
            ],
            "image/png": "[encoded data removed]"
          },
          "metadata": {}
        }
      ],
      "source": [
        "max_depth_values = range(10, 41)\n",
        "n_estimator_values = range(15, 51)\n",
        "\n",
        "cv_score = []\n",
        "test_score = []\n",
        "best_combination = []\n",
        "\n",
        "complexity_values = n_estimator_values\n",
        "\n",
        "for max_depth in max_depth_values:\n",
        "  for n_est in n_estimator_values:\n",
        "    # Create your RandomForestClassifier with desired hyperparameters\n",
        "    rf_classifier = RandomForestClassifier(n_estimators=n_est, max_depth=max_depth, random_state=42)\n",
        "    # Perform 5-fold cross-validation (you can change the number of folds with the cv parameter)\n",
        "    scores = cross_val_score(rf_classifier, X_train, y_train, cv=5)\n",
        "    cv_score.append(1 - scores.mean())\n",
        "\n",
        "    rf_classifier.fit(X_train, y_train)\n",
        "\n",
        "    # Evaluating with train data\n",
        "    y_test_pred = rf_classifier.predict(X_test)\n",
        "    test_score.append(1 - accuracy_score(y_test, y_test_pred))\n",
        "\n",
        "    best_combination.append((n_est, max_depth))\n",
        "\n",
        "# Create an array of x-values (e.g., epochs, iterations, etc.)\n",
        "x_values = np.arange(1, len(cv_score) + 1)\n",
        "\n",
        "# Create a figure and axis\n",
        "fig, ax = plt.subplots()\n",
        "\n",
        "# Plot the lines for cv_score, train_score, and test_score\n",
        "plt.plot(x_values, cv_score, label='Trainng Score')\n",
        "plt.plot(x_values, test_score, label='Testing Score')\n",
        "\n",
        "# Add labels and a legend\n",
        "plt.xlabel('Complexity')\n",
        "plt.ylabel('Error')\n",
        "plt.title('Model Performance')\n",
        "plt.legend()\n",
        "\n",
        "# Display the graph\n",
        "plt.grid()\n",
        "plt.show()"
      ]
    },
    {
      "cell_type": "code",
      "source": [
        "min = 99999\n",
        "min_pair = (0, 0)\n",
        "for index, pair in enumerate(best_combination[100:150]):\n",
        "  index += 100\n",
        "  diff = abs(pair[0] - pair[1])\n",
        "  if diff < min and cv_score[index] < 0.2:\n",
        "    min = diff\n",
        "    min_pair = pair\n",
        "\n",
        "print(\"N-Estimator: {}\\nMax-Depth: {}\".format(min_pair[0], min_pair[1]))"
      ],
      "metadata": {
        "colab": {
          "base_uri": "https://localhost:8080/"
        },
        "id": "ECQMYhpa-Cag",
        "outputId": "a42e2890-e526-4ce5-c9b9-0af76a7d5d45"
      },
      "execution_count": null,
      "outputs": [
        {
          "output_type": "stream",
          "name": "stdout",
          "text": [
            "N-Estimator: 18\n",
            "Max-Depth: 13\n"
          ]
        }
      ]
    },
    {
      "cell_type": "markdown",
      "source": [
        "### **Enhanced Model Evaluation**"
      ],
      "metadata": {
        "id": "hSNb6UjoEpvc"
      }
    },
    {
      "cell_type": "code",
      "source": [
        "rf_classifier = RandomForestClassifier(n_estimators=20, max_depth=15, random_state=42)\n",
        "print('Evaluation with Training Data:')\n",
        "for metric in ['accuracy', 'precision_macro', 'recall_macro']:\n",
        "  # Perform 5-fold cross-validation (you can change the number of folds with the cv parameter)\n",
        "  scores = cross_val_score(rf_classifier, X_train, y_train, cv=5, scoring = metric)\n",
        "\n",
        "  # Calculate and print the mean and standard deviation of the cross-validation scores\n",
        "  print(metric, ': ', round(scores.mean() * 100, 2), '%')\n",
        "\n",
        "rf_classifier.fit(X_train, y_train)\n",
        "\n",
        "print('\\nEvalution with Testing Data:')\n",
        "# Evaluating with test data\n",
        "y_test_pred = rf_classifier.predict(X_test)\n",
        "evaluate(y_test, y_test_pred)"
      ],
      "metadata": {
        "id": "H4XrQWa-FILI",
        "colab": {
          "base_uri": "https://localhost:8080/"
        },
        "outputId": "b8a82c7f-771b-4da2-9464-890b619c86cb"
      },
      "execution_count": null,
      "outputs": [
        {
          "output_type": "stream",
          "name": "stdout",
          "text": [
            "Evaluation with Training Data:\n",
            "accuracy :  80.57 %\n",
            "precision_macro :  80.35 %\n",
            "recall_macro :  80.54 %\n",
            "\n",
            "Evalution with Testing Data:\n",
            "accuracy: 80.78%\n",
            "precision: 80.42%\n",
            "recall: 80.68%\n",
            "Confusion Matrix:\n",
            "[[441  15   6  32]\n",
            " [ 30 320  57  84]\n",
            " [  1  32 451  10]\n",
            " [ 39  52  14 351]]\n"
          ]
        }
      ]
    }
  ],
  "metadata": {
    "colab": {
      "provenance": [],
      "toc_visible": true
    },
    "kernelspec": {
      "display_name": "Python 3",
      "name": "python3"
    },
    "language_info": {
      "name": "python"
    }
  },
  "nbformat": 4,
  "nbformat_minor": 0
}